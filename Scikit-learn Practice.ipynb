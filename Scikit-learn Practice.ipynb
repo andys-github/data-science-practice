{
 "cells": [
  {
   "cell_type": "markdown",
   "id": "017937d0",
   "metadata": {},
   "source": [
    "# Scikit-learn Practice"
   ]
  },
  {
   "cell_type": "markdown",
   "id": "7e25c5e6",
   "metadata": {},
   "source": [
    "Refer: [Youtube Link](https://youtu.be/0B5eIE_1vpU)"
   ]
  },
  {
   "cell_type": "markdown",
   "id": "34764475",
   "metadata": {},
   "source": [
    "### Basic Idea:\n",
    "\n",
    "- We feed data into our model and we get predictions out of it\n",
    "- We divide the data into two parts - X and Y\n",
    "- X = The data without the output value we are interested in\n",
    "- Y = The output values which we need our model to learn from and predict results for some unknown 'X'\n",
    "\n",
    "```\n",
    "     ,----> X ---,\n",
    "    /             \\\n",
    "Data               ====> Model ---> Predict\n",
    "    \\             /\n",
    "     '----> Y ---'\n",
    "\n",
    "```"
   ]
  },
  {
   "cell_type": "code",
   "execution_count": 1,
   "id": "b43aad9d",
   "metadata": {},
   "outputs": [
    {
     "name": "stdout",
     "output_type": "stream",
     "text": [
      "Collecting scikit-learn==0.23.0\n",
      "  Downloading scikit-learn-0.23.0.tar.gz (7.2 MB)\n",
      "\u001b[K     |████████████████████████████████| 7.2 MB 850 kB/s eta 0:00:01\n",
      "\u001b[?25h  Installing build dependencies ... \u001b[?25ldone\n",
      "\u001b[?25h  Getting requirements to build wheel ... \u001b[?25ldone\n",
      "\u001b[?25h    Preparing wheel metadata ... \u001b[?25ldone\n",
      "\u001b[?25hRequirement already satisfied: joblib>=0.11 in /home/anindya/anaconda3/lib/python3.9/site-packages (from scikit-learn==0.23.0) (1.1.0)\n",
      "Requirement already satisfied: threadpoolctl>=2.0.0 in /home/anindya/anaconda3/lib/python3.9/site-packages (from scikit-learn==0.23.0) (2.2.0)\n",
      "Requirement already satisfied: scipy>=0.19.1 in /home/anindya/anaconda3/lib/python3.9/site-packages (from scikit-learn==0.23.0) (1.7.1)\n",
      "Requirement already satisfied: numpy>=1.13.3 in /home/anindya/anaconda3/lib/python3.9/site-packages (from scikit-learn==0.23.0) (1.20.3)\n",
      "Building wheels for collected packages: scikit-learn\n",
      "  Building wheel for scikit-learn (PEP 517) ... \u001b[?25ldone\n",
      "\u001b[?25h  Created wheel for scikit-learn: filename=scikit_learn-0.23.0-cp39-cp39-linux_x86_64.whl size=7190701 sha256=0eeff556bf06d74d04b069408cf2dde5032425b3c094be6a2f78cfb5e39a47e3\n",
      "  Stored in directory: /home/anindya/.cache/pip/wheels/48/e8/2e/6635272d8569911b207ef3a7753a189c71eca3f47505baa089\n",
      "Successfully built scikit-learn\n",
      "Installing collected packages: scikit-learn\n",
      "  Attempting uninstall: scikit-learn\n",
      "    Found existing installation: scikit-learn 0.24.2\n",
      "    Uninstalling scikit-learn-0.24.2:\n",
      "      Successfully uninstalled scikit-learn-0.24.2\n",
      "Successfully installed scikit-learn-0.23.0\n",
      "Note: you may need to restart the kernel to use updated packages.\n"
     ]
    }
   ],
   "source": [
    "%pip install --upgrade scikit-learn==0.23.0 # reason for using specific version would be clarfied later"
   ]
  },
  {
   "cell_type": "code",
   "execution_count": 16,
   "id": "106db731",
   "metadata": {},
   "outputs": [],
   "source": [
    "from sklearn.datasets import load_boston"
   ]
  },
  {
   "cell_type": "code",
   "execution_count": 17,
   "id": "01a654af",
   "metadata": {},
   "outputs": [],
   "source": [
    "X, y = load_boston(return_X_y=True) # return_X_y=True will return a tuple of two arrays (X ad y)"
   ]
  },
  {
   "cell_type": "markdown",
   "id": "19608a92",
   "metadata": {},
   "source": [
    "#### When we make the model learn, we have do this in two steps:\n",
    "\n",
    "1. Create\n",
    "   - This is where we create the model object\n",
    "2. Learn\n",
    "   - This is when we \".fit()\" the model\n",
    "\n",
    "```\n",
    "     ,----> X ---,\n",
    "    /             \\\n",
    "Data               ====> Model ---> Predict\n",
    "    \\             /\n",
    "     '----> Y ---'\n",
    "\n",
    "```"
   ]
  },
  {
   "cell_type": "code",
   "execution_count": 18,
   "id": "61793752",
   "metadata": {},
   "outputs": [],
   "source": [
    "from sklearn.neighbors import KNeighborsRegressor "
   ]
  },
  {
   "cell_type": "code",
   "execution_count": 19,
   "id": "2d66befc",
   "metadata": {},
   "outputs": [],
   "source": [
    "model = KNeighborsRegressor()"
   ]
  },
  {
   "cell_type": "markdown",
   "id": "09c590ea",
   "metadata": {},
   "source": [
    "### If we try to 'predict' without 'fitting' the model, the '.predict()' will throw an error"
   ]
  },
  {
   "cell_type": "code",
   "execution_count": 22,
   "id": "f4e0754a",
   "metadata": {},
   "outputs": [
    {
     "ename": "TypeError",
     "evalue": "predict() missing 1 required positional argument: 'X'",
     "output_type": "error",
     "traceback": [
      "\u001b[0;31m---------------------------------------------------------------------------\u001b[0m",
      "\u001b[0;31mTypeError\u001b[0m                                 Traceback (most recent call last)",
      "\u001b[0;32m/tmp/ipykernel_10261/1548584363.py\u001b[0m in \u001b[0;36m<module>\u001b[0;34m\u001b[0m\n\u001b[0;32m----> 1\u001b[0;31m \u001b[0mmodel\u001b[0m\u001b[0;34m.\u001b[0m\u001b[0mpredict\u001b[0m\u001b[0;34m(\u001b[0m\u001b[0;34m)\u001b[0m\u001b[0;34m\u001b[0m\u001b[0;34m\u001b[0m\u001b[0m\n\u001b[0m",
      "\u001b[0;31mTypeError\u001b[0m: predict() missing 1 required positional argument: 'X'"
     ]
    }
   ],
   "source": [
    "model.predict()"
   ]
  },
  {
   "cell_type": "code",
   "execution_count": null,
   "id": "b5c3020a",
   "metadata": {},
   "outputs": [],
   "source": []
  }
 ],
 "metadata": {
  "kernelspec": {
   "display_name": "Python 3 (ipykernel)",
   "language": "python",
   "name": "python3"
  },
  "language_info": {
   "codemirror_mode": {
    "name": "ipython",
    "version": 3
   },
   "file_extension": ".py",
   "mimetype": "text/x-python",
   "name": "python",
   "nbconvert_exporter": "python",
   "pygments_lexer": "ipython3",
   "version": "3.9.7"
  }
 },
 "nbformat": 4,
 "nbformat_minor": 5
}
