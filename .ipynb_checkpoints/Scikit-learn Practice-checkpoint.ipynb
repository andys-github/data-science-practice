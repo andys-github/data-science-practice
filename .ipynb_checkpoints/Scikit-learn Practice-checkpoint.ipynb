{
 "cells": [
  {
   "cell_type": "markdown",
   "id": "5ae420e7",
   "metadata": {},
   "source": [
    "# Scikit-learn Practice"
   ]
  },
  {
   "cell_type": "markdown",
   "id": "fcccd133",
   "metadata": {},
   "source": [
    "Refer: [Youtube Link](https://youtu.be/0B5eIE_1vpU)"
   ]
  },
  {
   "cell_type": "markdown",
   "id": "67747638",
   "metadata": {},
   "source": [
    "### Basic Idea:\n",
    "\n",
    "- We feed data into our model and we get predictions out of it\n",
    "- We divide the data into two parts - X and Y\n",
    "- X = The data without the output value we are interested in\n",
    "- Y = The output values which we need our model to learn from and predict results for some unknown 'X'\n",
    "\n",
    "```\n",
    "     ,----> X ---,\n",
    "    /             \\\n",
    "Data               ====> Model ---> Predict\n",
    "    \\             /\n",
    "     '----> Y ---'\n",
    "\n",
    "```"
   ]
  },
  {
   "cell_type": "code",
   "execution_count": null,
   "id": "d8f59bdb",
   "metadata": {},
   "outputs": [],
   "source": [
    "# reason for using specific version would be clarfied later\n",
    "%pip install --upgrade scikit-learn==0.23.0"
   ]
  },
  {
   "cell_type": "code",
   "execution_count": 16,
   "id": "b6142af6",
   "metadata": {},
   "outputs": [],
   "source": [
    "from sklearn.datasets import load_boston"
   ]
  },
  {
   "cell_type": "code",
   "execution_count": 17,
   "id": "0283c9ff",
   "metadata": {},
   "outputs": [],
   "source": [
    "X, y = load_boston(return_X_y=True) # return_X_y=True will return a tuple of two arrays (X ad y)"
   ]
  },
  {
   "cell_type": "markdown",
   "id": "39dfccbf",
   "metadata": {},
   "source": [
    "#### When we make the model learn, we have do this in two steps:\n",
    "\n",
    "1. Create\n",
    "   - This is where we create the model object\n",
    "2. Learn\n",
    "   - This is when we \".fit()\" the model\n",
    "\n",
    "```\n",
    "     ,----> X ---,\n",
    "    /             \\\n",
    "Data               ====> Model ---> Predict\n",
    "    \\             /\n",
    "     '----> Y ---'\n",
    "\n",
    "```"
   ]
  },
  {
   "cell_type": "code",
   "execution_count": 18,
   "id": "3c1f1a37",
   "metadata": {},
   "outputs": [],
   "source": [
    "from sklearn.neighbors import KNeighborsRegressor "
   ]
  },
  {
   "cell_type": "code",
   "execution_count": 19,
   "id": "b3f6e6b0",
   "metadata": {},
   "outputs": [],
   "source": [
    "model = KNeighborsRegressor()"
   ]
  },
  {
   "cell_type": "markdown",
   "id": "bf57184a",
   "metadata": {},
   "source": [
    "### If we try to 'predict' without 'fitting' the model, the '.predict()' will throw an error"
   ]
  },
  {
   "cell_type": "code",
   "execution_count": 22,
   "id": "6172a106",
   "metadata": {},
   "outputs": [
    {
     "ename": "TypeError",
     "evalue": "predict() missing 1 required positional argument: 'X'",
     "output_type": "error",
     "traceback": [
      "\u001b[0;31m---------------------------------------------------------------------------\u001b[0m",
      "\u001b[0;31mTypeError\u001b[0m                                 Traceback (most recent call last)",
      "\u001b[0;32m/tmp/ipykernel_10261/1548584363.py\u001b[0m in \u001b[0;36m<module>\u001b[0;34m\u001b[0m\n\u001b[0;32m----> 1\u001b[0;31m \u001b[0mmodel\u001b[0m\u001b[0;34m.\u001b[0m\u001b[0mpredict\u001b[0m\u001b[0;34m(\u001b[0m\u001b[0;34m)\u001b[0m\u001b[0;34m\u001b[0m\u001b[0;34m\u001b[0m\u001b[0m\n\u001b[0m",
      "\u001b[0;31mTypeError\u001b[0m: predict() missing 1 required positional argument: 'X'"
     ]
    }
   ],
   "source": [
    "model.predict()"
   ]
  },
  {
   "cell_type": "code",
   "execution_count": null,
   "id": "8c50da86",
   "metadata": {},
   "outputs": [],
   "source": []
  }
 ],
 "metadata": {
  "kernelspec": {
   "display_name": "Python 3 (ipykernel)",
   "language": "python",
   "name": "python3"
  },
  "language_info": {
   "codemirror_mode": {
    "name": "ipython",
    "version": 3
   },
   "file_extension": ".py",
   "mimetype": "text/x-python",
   "name": "python",
   "nbconvert_exporter": "python",
   "pygments_lexer": "ipython3",
   "version": "3.9.7"
  }
 },
 "nbformat": 4,
 "nbformat_minor": 5
}
